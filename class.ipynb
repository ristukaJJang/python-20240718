{
 "cells": [
  {
   "cell_type": "markdown",
   "metadata": {},
   "source": [
    "### 클래스\n",
    "객체에 대한 정의 or 같은 속성 및 기능의 집합\n",
    "```python\n",
    "class 클래스명():\n",
    "    def __init__(self, 매개변수1, ...):\n",
    "        self.속성1 = 속성값1\n",
    "        ...\n",
    "    def 메서드명(self):\n",
    "        실행 구문\n",
    "        ...\n",
    "```"
   ]
  },
  {
   "cell_type": "code",
   "execution_count": 23,
   "metadata": {},
   "outputs": [],
   "source": [
    "class Human():\n",
    "    def __init__(self, name, age):\n",
    "        self.name = name\n",
    "        self.age = age\n",
    "    def greet(self):\n",
    "        print(f'{self.name}님이 인사를 합니다.')"
   ]
  },
  {
   "cell_type": "markdown",
   "metadata": {},
   "source": [
    "##### 클래스의 인스턴스 생성\n",
    "```python\n",
    "변수 = 클래스명(매개변수, ...)\n",
    "```"
   ]
  },
  {
   "cell_type": "code",
   "execution_count": 25,
   "metadata": {},
   "outputs": [
    {
     "name": "stdout",
     "output_type": "stream",
     "text": [
      "홍길동님이 인사를 합니다.\n"
     ]
    }
   ],
   "source": [
    "human1 = Human('홍길동', 20)\n",
    "human1.greet()"
   ]
  },
  {
   "cell_type": "markdown",
   "metadata": {},
   "source": [
    "##### 클래스 상속\n",
    " - 이미 정의된 클래스를 재사용하는 기법\n",
    " - 코드 재사용성을 높여서 코드 중복 제거, 유지보수성 향상\n",
    " ```python\n",
    " class 클래스명(부모클래스):\n",
    "    def __init__(self, 매개변수1, ...):\n",
    "        super(자식 클래스명, self).__init__(매개변수, ...)\n",
    "        ...\n",
    " ```"
   ]
  },
  {
   "cell_type": "code",
   "execution_count": 20,
   "metadata": {},
   "outputs": [],
   "source": [
    "class SalesMan(Human):\n",
    "    def __init__(self, name, age):\n",
    "        super(SalesMan, self).__init__(name, age)\n",
    "        self.sales = 0\n",
    "    def sale(self):\n",
    "        print(f'{self.name}님이 {self.sales} 만큼의 매출을 달성했습니다.')"
   ]
  },
  {
   "cell_type": "code",
   "execution_count": 21,
   "metadata": {},
   "outputs": [
    {
     "name": "stdout",
     "output_type": "stream",
     "text": [
      "이성계님이 0 만큼의 매출을 달성했습니다.\n"
     ]
    }
   ],
   "source": [
    "salesMan1 = SalesMan('이성계', 56)\n",
    "salesMan1.sale()"
   ]
  },
  {
   "cell_type": "markdown",
   "metadata": {},
   "source": [
    "##### 메서드 : 오버로딩와 오버라이딩\n",
    "오버로딩 : 같은 이름의 메스드를 매개변수의 조합을 다르게하여 여러개 정의하는 것\n",
    " - 파이썬에서는 오버로딩을 지원하지 않음\n",
    " 오버라이딩 : 부모 클래스의 메서드를 재정의하는 것"
   ]
  },
  {
   "cell_type": "code",
   "execution_count": 33,
   "metadata": {},
   "outputs": [],
   "source": [
    "class Developer(Human):\n",
    "    def __init__(self, name, age):\n",
    "        super(Developer, self).__init__(name, age)\n",
    "        self.skills = []\n",
    "\n",
    "    def greet(self):\n",
    "        print(f'{self.name}님이 인사를 합니다. 안녕하세요')"
   ]
  },
  {
   "cell_type": "code",
   "execution_count": 34,
   "metadata": {},
   "outputs": [],
   "source": [
    "developer1 = Developer('이도', 32)\n"
   ]
  },
  {
   "cell_type": "code",
   "execution_count": 35,
   "metadata": {},
   "outputs": [
    {
     "name": "stdout",
     "output_type": "stream",
     "text": [
      "이도님이 인사를 합니다. 안녕하세요\n"
     ]
    }
   ],
   "source": [
    "developer1.greet()"
   ]
  },
  {
   "cell_type": "markdown",
   "metadata": {},
   "source": [
    "##### 특수 메서드\n",
    "파이썬 클래스에서 제공하는 __메서드명__ 형태의 특수한 메서드\n",
    "```python\n",
    "__repr__(self) # 인스턴스 자체 출력시 표현할 방법\n",
    "__str__(self) # 인스턴스를 문자열로 형변환시 표현할 방법\n",
    "__getitem__(self, key) # 인스턴스를 딕셔너리와 같이 인덱싱 기법을 사용할 수 있도록 하는 방법\n",
    "```"
   ]
  },
  {
   "cell_type": "code",
   "execution_count": 36,
   "metadata": {},
   "outputs": [],
   "source": [
    "class King():\n",
    "    def __init__(self, number, name, ho):\n",
    "        self.number = number\n",
    "        self.name = name\n",
    "        self.ho = ho\n",
    "\n",
    "    def __repr__(self):\n",
    "        return f'King name - {self.name} / ho - {self.ho} / number - {self.number}'\n",
    "    \n",
    "    def __str__(self):\n",
    "        return f'이름 : {self.name} / 호 : {self.ho} / 순서 : {self.number}'\n",
    "    \n",
    "    def __getitem__(self, key):\n",
    "        if key == 'number':\n",
    "            return self.number\n",
    "        if key == 'name':\n",
    "            return self.name\n",
    "        if key == 'ho':\n",
    "            return self.ho"
   ]
  },
  {
   "cell_type": "code",
   "execution_count": 37,
   "metadata": {},
   "outputs": [
    {
     "data": {
      "text/plain": [
       "King name - 이도 / ho - 세종 / number - 4"
      ]
     },
     "execution_count": 37,
     "metadata": {},
     "output_type": "execute_result"
    }
   ],
   "source": [
    "seajong = King(4, '이도', '세종')\n",
    "seajong"
   ]
  },
  {
   "cell_type": "code",
   "execution_count": 38,
   "metadata": {},
   "outputs": [
    {
     "data": {
      "text/plain": [
       "'이름 : 이도 / 호 : 세종 / 순서 : 4'"
      ]
     },
     "execution_count": 38,
     "metadata": {},
     "output_type": "execute_result"
    }
   ],
   "source": [
    "str(seajong)"
   ]
  },
  {
   "cell_type": "code",
   "execution_count": 40,
   "metadata": {},
   "outputs": [
    {
     "data": {
      "text/plain": [
       "'이도'"
      ]
     },
     "execution_count": 40,
     "metadata": {},
     "output_type": "execute_result"
    }
   ],
   "source": [
    "seajong['name']"
   ]
  }
 ],
 "metadata": {
  "kernelspec": {
   "display_name": "Python 3",
   "language": "python",
   "name": "python3"
  },
  "language_info": {
   "codemirror_mode": {
    "name": "ipython",
    "version": 3
   },
   "file_extension": ".py",
   "mimetype": "text/x-python",
   "name": "python",
   "nbconvert_exporter": "python",
   "pygments_lexer": "ipython3",
   "version": "3.12.4"
  }
 },
 "nbformat": 4,
 "nbformat_minor": 2
}
